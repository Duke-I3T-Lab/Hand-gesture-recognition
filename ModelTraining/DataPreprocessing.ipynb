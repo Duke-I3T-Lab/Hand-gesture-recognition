{
 "cells": [
  {
   "cell_type": "code",
   "execution_count": 1,
   "metadata": {},
   "outputs": [
    {
     "name": "stderr",
     "output_type": "stream",
     "text": [
      "/tmp/ipykernel_107140/1454856731.py:1: DeprecationWarning: \n",
      "Pyarrow will become a required dependency of pandas in the next major release of pandas (pandas 3.0),\n",
      "(to allow more performant data types, such as the Arrow string type, and better interoperability with other libraries)\n",
      "but was not found to be installed on your system.\n",
      "If this would cause problems for you,\n",
      "please provide us feedback at https://github.com/pandas-dev/pandas/issues/54466\n",
      "        \n",
      "  import pandas as pd\n"
     ]
    }
   ],
   "source": [
    "import pandas as pd\n",
    "import numpy as np\n",
    "from scipy.spatial.transform import Rotation as R\n",
    "from sklearn.preprocessing import MinMaxScaler\n",
    "from pickle import dump"
   ]
  },
  {
   "cell_type": "code",
   "execution_count": 2,
   "metadata": {},
   "outputs": [
    {
     "data": {
      "text/plain": [
       "['./dataset/labeled/20240216_202836897-Tracking.csv',\n",
       " './dataset/labeled/20240216_203857568-Tracking.csv',\n",
       " './dataset/labeled/20240216_203503978-Tracking.csv',\n",
       " './dataset/labeled/20240216_204214403-Tracking.csv']"
      ]
     },
     "execution_count": 2,
     "metadata": {},
     "output_type": "execute_result"
    }
   ],
   "source": [
    "file_list = [\"20240216_202836897-Tracking.csv\",\n",
    "             \"20240216_203857568-Tracking.csv\",\n",
    "             \"20240216_203503978-Tracking.csv\",\n",
    "             \"20240216_204214403-Tracking.csv\"]\n",
    "\n",
    "for idx, name in enumerate(file_list):\n",
    "    file_list[idx] = \"./dataset/labeled/{}\".format(name)\n",
    "file_list"
   ]
  },
  {
   "cell_type": "code",
   "execution_count": 3,
   "metadata": {},
   "outputs": [
    {
     "name": "stdout",
     "output_type": "stream",
     "text": [
      "Has data samples: 2709\n",
      "Has data samples: 6525\n",
      "Has data samples: 9138\n",
      "Has data samples: 12747\n"
     ]
    }
   ],
   "source": [
    "df = None\n",
    "for idx, file in enumerate(file_list):\n",
    "    df_idx = pd.read_csv(file)\n",
    "    #df_idx.drop(labels='Unnamed:0', axis=1, inplace=True)\n",
    "    if df is None:\n",
    "        df = df_idx\n",
    "        print('Has data samples: {}'.format(len(df)))\n",
    "    else:\n",
    "        df = pd.concat([df, df_idx], ignore_index=True)\n",
    "        print('Has data samples: {}'.format(len(df)))"
   ]
  },
  {
   "cell_type": "code",
   "execution_count": 4,
   "metadata": {},
   "outputs": [
    {
     "data": {
      "text/plain": [
       "(12747, 55)"
      ]
     },
     "execution_count": 4,
     "metadata": {},
     "output_type": "execute_result"
    }
   ],
   "source": [
    "df.shape"
   ]
  },
  {
   "cell_type": "code",
   "execution_count": 5,
   "metadata": {},
   "outputs": [
    {
     "data": {
      "text/html": [
       "<div>\n",
       "<style scoped>\n",
       "    .dataframe tbody tr th:only-of-type {\n",
       "        vertical-align: middle;\n",
       "    }\n",
       "\n",
       "    .dataframe tbody tr th {\n",
       "        vertical-align: top;\n",
       "    }\n",
       "\n",
       "    .dataframe thead th {\n",
       "        text-align: right;\n",
       "    }\n",
       "</style>\n",
       "<table border=\"1\" class=\"dataframe\">\n",
       "  <thead>\n",
       "    <tr style=\"text-align: right;\">\n",
       "      <th></th>\n",
       "      <th>Label</th>\n",
       "      <th>Time</th>\n",
       "      <th>Counter</th>\n",
       "      <th>IndexDistalJoint</th>\n",
       "      <th>IndexKnuckle</th>\n",
       "      <th>IndexMetacarpal</th>\n",
       "      <th>IndexMiddleJoint</th>\n",
       "      <th>IndexTip</th>\n",
       "      <th>MiddleDistalJoint</th>\n",
       "      <th>MiddleKnuckle</th>\n",
       "      <th>...</th>\n",
       "      <th>RingDistalJoint.1</th>\n",
       "      <th>RingKnuckle.1</th>\n",
       "      <th>RingMetacarpal.1</th>\n",
       "      <th>RingMiddleJoint.1</th>\n",
       "      <th>RingTip.1</th>\n",
       "      <th>ThumbDistalJoint.1</th>\n",
       "      <th>ThumbMetacarpalJoint.1</th>\n",
       "      <th>ThumbProximalJoint.1</th>\n",
       "      <th>ThumbTip.1</th>\n",
       "      <th>Wrist.1</th>\n",
       "    </tr>\n",
       "  </thead>\n",
       "  <tbody>\n",
       "    <tr>\n",
       "      <th>0</th>\n",
       "      <td>NaN</td>\n",
       "      <td>2024-02-19 20:28:37.156</td>\n",
       "      <td>0</td>\n",
       "      <td>0</td>\n",
       "      <td>0</td>\n",
       "      <td>0</td>\n",
       "      <td>0</td>\n",
       "      <td>0</td>\n",
       "      <td>0</td>\n",
       "      <td>0</td>\n",
       "      <td>...</td>\n",
       "      <td>0</td>\n",
       "      <td>0</td>\n",
       "      <td>0</td>\n",
       "      <td>0</td>\n",
       "      <td>0</td>\n",
       "      <td>0</td>\n",
       "      <td>0</td>\n",
       "      <td>0</td>\n",
       "      <td>0</td>\n",
       "      <td>0</td>\n",
       "    </tr>\n",
       "    <tr>\n",
       "      <th>1</th>\n",
       "      <td>NaN</td>\n",
       "      <td>2024-02-19 20:28:37.523</td>\n",
       "      <td>1</td>\n",
       "      <td>0</td>\n",
       "      <td>0</td>\n",
       "      <td>0</td>\n",
       "      <td>0</td>\n",
       "      <td>0</td>\n",
       "      <td>0</td>\n",
       "      <td>0</td>\n",
       "      <td>...</td>\n",
       "      <td>0</td>\n",
       "      <td>0</td>\n",
       "      <td>0</td>\n",
       "      <td>0</td>\n",
       "      <td>0</td>\n",
       "      <td>0</td>\n",
       "      <td>0</td>\n",
       "      <td>0</td>\n",
       "      <td>0</td>\n",
       "      <td>0</td>\n",
       "    </tr>\n",
       "    <tr>\n",
       "      <th>2</th>\n",
       "      <td>NaN</td>\n",
       "      <td>2024-02-19 20:28:37.845</td>\n",
       "      <td>2</td>\n",
       "      <td>0</td>\n",
       "      <td>0</td>\n",
       "      <td>0</td>\n",
       "      <td>0</td>\n",
       "      <td>0</td>\n",
       "      <td>0</td>\n",
       "      <td>0</td>\n",
       "      <td>...</td>\n",
       "      <td>0</td>\n",
       "      <td>0</td>\n",
       "      <td>0</td>\n",
       "      <td>0</td>\n",
       "      <td>0</td>\n",
       "      <td>0</td>\n",
       "      <td>0</td>\n",
       "      <td>0</td>\n",
       "      <td>0</td>\n",
       "      <td>0</td>\n",
       "    </tr>\n",
       "    <tr>\n",
       "      <th>3</th>\n",
       "      <td>NaN</td>\n",
       "      <td>2024-02-19 20:28:37.879</td>\n",
       "      <td>3</td>\n",
       "      <td>0</td>\n",
       "      <td>0</td>\n",
       "      <td>0</td>\n",
       "      <td>0</td>\n",
       "      <td>0</td>\n",
       "      <td>0</td>\n",
       "      <td>0</td>\n",
       "      <td>...</td>\n",
       "      <td>0</td>\n",
       "      <td>0</td>\n",
       "      <td>0</td>\n",
       "      <td>0</td>\n",
       "      <td>0</td>\n",
       "      <td>0</td>\n",
       "      <td>0</td>\n",
       "      <td>0</td>\n",
       "      <td>0</td>\n",
       "      <td>0</td>\n",
       "    </tr>\n",
       "    <tr>\n",
       "      <th>4</th>\n",
       "      <td>NaN</td>\n",
       "      <td>2024-02-19 20:28:37.907</td>\n",
       "      <td>4</td>\n",
       "      <td>0</td>\n",
       "      <td>0</td>\n",
       "      <td>0</td>\n",
       "      <td>0</td>\n",
       "      <td>0</td>\n",
       "      <td>0</td>\n",
       "      <td>0</td>\n",
       "      <td>...</td>\n",
       "      <td>0</td>\n",
       "      <td>0</td>\n",
       "      <td>0</td>\n",
       "      <td>0</td>\n",
       "      <td>0</td>\n",
       "      <td>0</td>\n",
       "      <td>0</td>\n",
       "      <td>0</td>\n",
       "      <td>0</td>\n",
       "      <td>0</td>\n",
       "    </tr>\n",
       "  </tbody>\n",
       "</table>\n",
       "<p>5 rows × 55 columns</p>\n",
       "</div>"
      ],
      "text/plain": [
       "   Label                     Time  Counter IndexDistalJoint IndexKnuckle  \\\n",
       "0    NaN  2024-02-19 20:28:37.156        0                0            0   \n",
       "1    NaN  2024-02-19 20:28:37.523        1                0            0   \n",
       "2    NaN  2024-02-19 20:28:37.845        2                0            0   \n",
       "3    NaN  2024-02-19 20:28:37.879        3                0            0   \n",
       "4    NaN  2024-02-19 20:28:37.907        4                0            0   \n",
       "\n",
       "  IndexMetacarpal IndexMiddleJoint IndexTip MiddleDistalJoint MiddleKnuckle  \\\n",
       "0               0                0        0                 0             0   \n",
       "1               0                0        0                 0             0   \n",
       "2               0                0        0                 0             0   \n",
       "3               0                0        0                 0             0   \n",
       "4               0                0        0                 0             0   \n",
       "\n",
       "   ... RingDistalJoint.1 RingKnuckle.1 RingMetacarpal.1 RingMiddleJoint.1  \\\n",
       "0  ...                 0             0                0                 0   \n",
       "1  ...                 0             0                0                 0   \n",
       "2  ...                 0             0                0                 0   \n",
       "3  ...                 0             0                0                 0   \n",
       "4  ...                 0             0                0                 0   \n",
       "\n",
       "  RingTip.1 ThumbDistalJoint.1 ThumbMetacarpalJoint.1 ThumbProximalJoint.1  \\\n",
       "0         0                  0                      0                    0   \n",
       "1         0                  0                      0                    0   \n",
       "2         0                  0                      0                    0   \n",
       "3         0                  0                      0                    0   \n",
       "4         0                  0                      0                    0   \n",
       "\n",
       "  ThumbTip.1 Wrist.1  \n",
       "0          0       0  \n",
       "1          0       0  \n",
       "2          0       0  \n",
       "3          0       0  \n",
       "4          0       0  \n",
       "\n",
       "[5 rows x 55 columns]"
      ]
     },
     "execution_count": 5,
     "metadata": {},
     "output_type": "execute_result"
    }
   ],
   "source": [
    "df.head()"
   ]
  },
  {
   "cell_type": "code",
   "execution_count": 6,
   "metadata": {},
   "outputs": [
    {
     "data": {
      "text/plain": [
       "Label\n",
       "8.0    4867\n",
       "9.0    4476\n",
       "0.0     575\n",
       "5.0     452\n",
       "1.0     381\n",
       "4.0     371\n",
       "6.0     305\n",
       "7.0     289\n",
       "3.0     275\n",
       "2.0     235\n",
       "Name: count, dtype: int64"
      ]
     },
     "execution_count": 6,
     "metadata": {},
     "output_type": "execute_result"
    }
   ],
   "source": [
    "df['Label'].value_counts()"
   ]
  },
  {
   "cell_type": "code",
   "execution_count": 7,
   "metadata": {},
   "outputs": [],
   "source": [
    "def remove_invalid_rows(raw_df):\n",
    "    new_df = raw_df.copy()\n",
    "    invalid_flags = np.zeros(new_df.shape[0])\n",
    "    ## Check Labels\n",
    "    for i, row in new_df.iterrows():\n",
    "        label = row.iloc[0]\n",
    "        right = row.iloc[3]\n",
    "        left  = row.iloc[29]\n",
    "        # if left hand label\n",
    "        if (label in [0.0,1.0,2.0,3.0]):\n",
    "            if left == '0':\n",
    "                invalid_flags[i] = 1\n",
    "                #print(\"Invalid Label: {} found in row {}\".format(label, i))\n",
    "        # if right hand label\n",
    "        elif (label in [4.0,5.0,6.0,7.0]):\n",
    "            if right == '0':\n",
    "                invalid_flags[i] = 1\n",
    "                #print(\"Invalid Label: {} found in row {}\".format(label, i))\n",
    "        elif (label == 8.0):\n",
    "            if left == '0':\n",
    "                invalid_flags[i] = 1\n",
    "                #print(\"Invalid Label: {} found in row {}\".format(label, i))\n",
    "        elif (label == 9.0):\n",
    "            if right == '0':\n",
    "                invalid_flags[i] = 1\n",
    "                #print(\"Invalid Label: {} found in row {}\".format(label, i))\n",
    "        else:\n",
    "            invalid_flags[i] = 1\n",
    "            #print(\"Invalid Label: {} found in row {}\".format(label, i))\n",
    "        \n",
    "    invalid_indice =  np.where(invalid_flags==1)[0]\n",
    "    print(\"found {} Invalid Rows\".format(len(invalid_indice)))\n",
    "    valid_df = new_df.drop(invalid_indice, axis=0)\n",
    "    return valid_df"
   ]
  },
  {
   "cell_type": "code",
   "execution_count": 8,
   "metadata": {},
   "outputs": [
    {
     "name": "stdout",
     "output_type": "stream",
     "text": [
      "found 1463 Invalid Rows\n"
     ]
    }
   ],
   "source": [
    "valid_df = remove_invalid_rows(df)"
   ]
  },
  {
   "cell_type": "code",
   "execution_count": 9,
   "metadata": {},
   "outputs": [
    {
     "name": "stdout",
     "output_type": "stream",
     "text": [
      "Orginal Rows:12747 |  Valid Rows:11284  |  Total Rows Removed:1463\n"
     ]
    }
   ],
   "source": [
    "print(\"Orginal Rows:{} |  Valid Rows:{}  |  Total Rows Removed:{}\".format(len(df), len(valid_df), \n",
    "                                                                          len(df)-len(valid_df)))"
   ]
  },
  {
   "cell_type": "code",
   "execution_count": 10,
   "metadata": {},
   "outputs": [
    {
     "data": {
      "text/html": [
       "<div>\n",
       "<style scoped>\n",
       "    .dataframe tbody tr th:only-of-type {\n",
       "        vertical-align: middle;\n",
       "    }\n",
       "\n",
       "    .dataframe tbody tr th {\n",
       "        vertical-align: top;\n",
       "    }\n",
       "\n",
       "    .dataframe thead th {\n",
       "        text-align: right;\n",
       "    }\n",
       "</style>\n",
       "<table border=\"1\" class=\"dataframe\">\n",
       "  <thead>\n",
       "    <tr style=\"text-align: right;\">\n",
       "      <th></th>\n",
       "      <th>Label</th>\n",
       "      <th>Time</th>\n",
       "      <th>Counter</th>\n",
       "      <th>IndexDistalJoint</th>\n",
       "      <th>IndexKnuckle</th>\n",
       "      <th>IndexMetacarpal</th>\n",
       "      <th>IndexMiddleJoint</th>\n",
       "      <th>IndexTip</th>\n",
       "      <th>MiddleDistalJoint</th>\n",
       "      <th>MiddleKnuckle</th>\n",
       "      <th>...</th>\n",
       "      <th>RingDistalJoint.1</th>\n",
       "      <th>RingKnuckle.1</th>\n",
       "      <th>RingMetacarpal.1</th>\n",
       "      <th>RingMiddleJoint.1</th>\n",
       "      <th>RingTip.1</th>\n",
       "      <th>ThumbDistalJoint.1</th>\n",
       "      <th>ThumbMetacarpalJoint.1</th>\n",
       "      <th>ThumbProximalJoint.1</th>\n",
       "      <th>ThumbTip.1</th>\n",
       "      <th>Wrist.1</th>\n",
       "    </tr>\n",
       "  </thead>\n",
       "  <tbody>\n",
       "    <tr>\n",
       "      <th>86</th>\n",
       "      <td>0.0</td>\n",
       "      <td>2024-02-19 20:28:41.171</td>\n",
       "      <td>86</td>\n",
       "      <td>0</td>\n",
       "      <td>0</td>\n",
       "      <td>0</td>\n",
       "      <td>0</td>\n",
       "      <td>0</td>\n",
       "      <td>0</td>\n",
       "      <td>0</td>\n",
       "      <td>...</td>\n",
       "      <td>(-0.152/ -0.288/ 0.309)</td>\n",
       "      <td>(-0.172/ -0.290/ 0.253)</td>\n",
       "      <td>(-0.187/ -0.315/ 0.204)</td>\n",
       "      <td>(-0.161/ -0.281/ 0.290)</td>\n",
       "      <td>(-0.145/ -0.297/ 0.321)</td>\n",
       "      <td>(-0.108/ -0.313/ 0.242)</td>\n",
       "      <td>(-0.162/ -0.317/ 0.194)</td>\n",
       "      <td>(-0.127/ -0.314/ 0.217)</td>\n",
       "      <td>(-0.096/ -0.313/ 0.255)</td>\n",
       "      <td>(-0.186/ -0.319/ 0.184)</td>\n",
       "    </tr>\n",
       "    <tr>\n",
       "      <th>87</th>\n",
       "      <td>0.0</td>\n",
       "      <td>2024-02-19 20:28:41.220</td>\n",
       "      <td>87</td>\n",
       "      <td>0</td>\n",
       "      <td>0</td>\n",
       "      <td>0</td>\n",
       "      <td>0</td>\n",
       "      <td>0</td>\n",
       "      <td>0</td>\n",
       "      <td>0</td>\n",
       "      <td>...</td>\n",
       "      <td>(-0.130/ -0.288/ 0.304)</td>\n",
       "      <td>(-0.154/ -0.289/ 0.250)</td>\n",
       "      <td>(-0.170/ -0.313/ 0.200)</td>\n",
       "      <td>(-0.140/ -0.281/ 0.286)</td>\n",
       "      <td>(-0.122/ -0.297/ 0.316)</td>\n",
       "      <td>(-0.090/ -0.308/ 0.234)</td>\n",
       "      <td>(-0.146/ -0.313/ 0.188)</td>\n",
       "      <td>(-0.110/ -0.309/ 0.210)</td>\n",
       "      <td>(-0.076/ -0.308/ 0.245)</td>\n",
       "      <td>(-0.170/ -0.315/ 0.180)</td>\n",
       "    </tr>\n",
       "    <tr>\n",
       "      <th>88</th>\n",
       "      <td>0.0</td>\n",
       "      <td>2024-02-19 20:28:41.265</td>\n",
       "      <td>88</td>\n",
       "      <td>0</td>\n",
       "      <td>0</td>\n",
       "      <td>0</td>\n",
       "      <td>0</td>\n",
       "      <td>0</td>\n",
       "      <td>0</td>\n",
       "      <td>0</td>\n",
       "      <td>...</td>\n",
       "      <td>(-0.101/ -0.303/ 0.293)</td>\n",
       "      <td>(-0.134/ -0.294/ 0.245)</td>\n",
       "      <td>(-0.152/ -0.312/ 0.195)</td>\n",
       "      <td>(-0.115/ -0.293/ 0.280)</td>\n",
       "      <td>(-0.089/ -0.312/ 0.300)</td>\n",
       "      <td>(-0.071/ -0.293/ 0.222)</td>\n",
       "      <td>(-0.130/ -0.304/ 0.181)</td>\n",
       "      <td>(-0.093/ -0.295/ 0.200)</td>\n",
       "      <td>(-0.056/ -0.291/ 0.231)</td>\n",
       "      <td>(-0.154/ -0.311/ 0.174)</td>\n",
       "    </tr>\n",
       "    <tr>\n",
       "      <th>89</th>\n",
       "      <td>0.0</td>\n",
       "      <td>2024-02-19 20:28:41.311</td>\n",
       "      <td>89</td>\n",
       "      <td>0</td>\n",
       "      <td>0</td>\n",
       "      <td>0</td>\n",
       "      <td>0</td>\n",
       "      <td>0</td>\n",
       "      <td>0</td>\n",
       "      <td>0</td>\n",
       "      <td>...</td>\n",
       "      <td>(-0.087/ -0.333/ 0.244)</td>\n",
       "      <td>(-0.125/ -0.300/ 0.239)</td>\n",
       "      <td>(-0.145/ -0.309/ 0.192)</td>\n",
       "      <td>(-0.099/ -0.321/ 0.257)</td>\n",
       "      <td>(-0.081/ -0.340/ 0.229)</td>\n",
       "      <td>(-0.065/ -0.286/ 0.219)</td>\n",
       "      <td>(-0.124/ -0.297/ 0.178)</td>\n",
       "      <td>(-0.087/ -0.287/ 0.197)</td>\n",
       "      <td>(-0.049/ -0.283/ 0.227)</td>\n",
       "      <td>(-0.148/ -0.305/ 0.172)</td>\n",
       "    </tr>\n",
       "    <tr>\n",
       "      <th>90</th>\n",
       "      <td>0.0</td>\n",
       "      <td>2024-02-19 20:28:41.355</td>\n",
       "      <td>90</td>\n",
       "      <td>0</td>\n",
       "      <td>0</td>\n",
       "      <td>0</td>\n",
       "      <td>0</td>\n",
       "      <td>0</td>\n",
       "      <td>0</td>\n",
       "      <td>0</td>\n",
       "      <td>...</td>\n",
       "      <td>(-0.080/ -0.331/ 0.233)</td>\n",
       "      <td>(-0.116/ -0.301/ 0.236)</td>\n",
       "      <td>(-0.136/ -0.309/ 0.190)</td>\n",
       "      <td>(-0.089/ -0.321/ 0.251)</td>\n",
       "      <td>(-0.077/ -0.335/ 0.217)</td>\n",
       "      <td>(-0.058/ -0.282/ 0.216)</td>\n",
       "      <td>(-0.117/ -0.296/ 0.176)</td>\n",
       "      <td>(-0.080/ -0.284/ 0.194)</td>\n",
       "      <td>(-0.043/ -0.279/ 0.225)</td>\n",
       "      <td>(-0.141/ -0.305/ 0.170)</td>\n",
       "    </tr>\n",
       "  </tbody>\n",
       "</table>\n",
       "<p>5 rows × 55 columns</p>\n",
       "</div>"
      ],
      "text/plain": [
       "    Label                     Time  Counter IndexDistalJoint IndexKnuckle  \\\n",
       "86    0.0  2024-02-19 20:28:41.171       86                0            0   \n",
       "87    0.0  2024-02-19 20:28:41.220       87                0            0   \n",
       "88    0.0  2024-02-19 20:28:41.265       88                0            0   \n",
       "89    0.0  2024-02-19 20:28:41.311       89                0            0   \n",
       "90    0.0  2024-02-19 20:28:41.355       90                0            0   \n",
       "\n",
       "   IndexMetacarpal IndexMiddleJoint IndexTip MiddleDistalJoint MiddleKnuckle  \\\n",
       "86               0                0        0                 0             0   \n",
       "87               0                0        0                 0             0   \n",
       "88               0                0        0                 0             0   \n",
       "89               0                0        0                 0             0   \n",
       "90               0                0        0                 0             0   \n",
       "\n",
       "    ...        RingDistalJoint.1            RingKnuckle.1  \\\n",
       "86  ...  (-0.152/ -0.288/ 0.309)  (-0.172/ -0.290/ 0.253)   \n",
       "87  ...  (-0.130/ -0.288/ 0.304)  (-0.154/ -0.289/ 0.250)   \n",
       "88  ...  (-0.101/ -0.303/ 0.293)  (-0.134/ -0.294/ 0.245)   \n",
       "89  ...  (-0.087/ -0.333/ 0.244)  (-0.125/ -0.300/ 0.239)   \n",
       "90  ...  (-0.080/ -0.331/ 0.233)  (-0.116/ -0.301/ 0.236)   \n",
       "\n",
       "           RingMetacarpal.1        RingMiddleJoint.1                RingTip.1  \\\n",
       "86  (-0.187/ -0.315/ 0.204)  (-0.161/ -0.281/ 0.290)  (-0.145/ -0.297/ 0.321)   \n",
       "87  (-0.170/ -0.313/ 0.200)  (-0.140/ -0.281/ 0.286)  (-0.122/ -0.297/ 0.316)   \n",
       "88  (-0.152/ -0.312/ 0.195)  (-0.115/ -0.293/ 0.280)  (-0.089/ -0.312/ 0.300)   \n",
       "89  (-0.145/ -0.309/ 0.192)  (-0.099/ -0.321/ 0.257)  (-0.081/ -0.340/ 0.229)   \n",
       "90  (-0.136/ -0.309/ 0.190)  (-0.089/ -0.321/ 0.251)  (-0.077/ -0.335/ 0.217)   \n",
       "\n",
       "         ThumbDistalJoint.1   ThumbMetacarpalJoint.1     ThumbProximalJoint.1  \\\n",
       "86  (-0.108/ -0.313/ 0.242)  (-0.162/ -0.317/ 0.194)  (-0.127/ -0.314/ 0.217)   \n",
       "87  (-0.090/ -0.308/ 0.234)  (-0.146/ -0.313/ 0.188)  (-0.110/ -0.309/ 0.210)   \n",
       "88  (-0.071/ -0.293/ 0.222)  (-0.130/ -0.304/ 0.181)  (-0.093/ -0.295/ 0.200)   \n",
       "89  (-0.065/ -0.286/ 0.219)  (-0.124/ -0.297/ 0.178)  (-0.087/ -0.287/ 0.197)   \n",
       "90  (-0.058/ -0.282/ 0.216)  (-0.117/ -0.296/ 0.176)  (-0.080/ -0.284/ 0.194)   \n",
       "\n",
       "                 ThumbTip.1                  Wrist.1  \n",
       "86  (-0.096/ -0.313/ 0.255)  (-0.186/ -0.319/ 0.184)  \n",
       "87  (-0.076/ -0.308/ 0.245)  (-0.170/ -0.315/ 0.180)  \n",
       "88  (-0.056/ -0.291/ 0.231)  (-0.154/ -0.311/ 0.174)  \n",
       "89  (-0.049/ -0.283/ 0.227)  (-0.148/ -0.305/ 0.172)  \n",
       "90  (-0.043/ -0.279/ 0.225)  (-0.141/ -0.305/ 0.170)  \n",
       "\n",
       "[5 rows x 55 columns]"
      ]
     },
     "execution_count": 10,
     "metadata": {},
     "output_type": "execute_result"
    }
   ],
   "source": [
    "valid_df.head()"
   ]
  },
  {
   "cell_type": "code",
   "execution_count": null,
   "metadata": {},
   "outputs": [],
   "source": [
    "def str_process(string):\n",
    "    number_list = string.replace(\"(\", \"\").replace(\")\", \"\").replace(\" \", \"\").split(\"/\")\n",
    "    if len(number_list) > 1:\n",
    "        number_list = [float(x) for x in number_list]\n",
    "    else:\n",
    "        number_list = [0., 0., 0.]\n",
    "    return number_list"
   ]
  },
  {
   "cell_type": "code",
   "execution_count": null,
   "metadata": {},
   "outputs": [],
   "source": [
    "def split_n_convert(valid_df):\n",
    "    # The first two columns \n",
    "    new_df = valid_df[['Label', 'Time', 'Counter']].reset_index().drop(['index'], axis=1)\n",
    "    feature_name_dict = {}\n",
    "    # for each column except the first two (Time and Counter)\n",
    "    for i, col in enumerate(valid_df.columns[3:]):\n",
    "        row_col = valid_df[col]\n",
    "        new_feature = []\n",
    "        print(\"Loading Feature: \"+col)\n",
    "        for j, str_feature in enumerate(row_col):\n",
    "            floats_list = str_process(str_feature)\n",
    "            assert(len(floats_list) == 3 or len(floats_list) == 4)\n",
    "            new_feature.append(floats_list)\n",
    "        new_feature = np.array(new_feature, dtype=float)\n",
    "\n",
    "        width = new_feature.shape[1]\n",
    "        new_feature_names = [col+'_'+str(idx) for idx in range(width)]\n",
    "        feature_name_dict[col] = new_feature_names\n",
    "        #print(new_feature_name)\n",
    "        new_feature_df = pd.DataFrame(new_feature, columns=new_feature_names)\n",
    "        assert(len(new_feature_df)==len(new_df))\n",
    "        new_df = pd.concat([new_df, new_feature_df], axis=1)\n",
    "    return new_df, feature_name_dict"
   ]
  },
  {
   "cell_type": "code",
   "execution_count": null,
   "metadata": {},
   "outputs": [],
   "source": [
    "#new_df,feature_name_dict = split_n_convert(valid_df)\n",
    "new_df,feature_name_dict = split_n_convert(valid_df)"
   ]
  },
  {
   "cell_type": "code",
   "execution_count": null,
   "metadata": {},
   "outputs": [],
   "source": [
    "new_df.head()"
   ]
  },
  {
   "cell_type": "code",
   "execution_count": null,
   "metadata": {},
   "outputs": [],
   "source": [
    "new_df['Label'].value_counts()"
   ]
  },
  {
   "cell_type": "code",
   "execution_count": null,
   "metadata": {},
   "outputs": [],
   "source": [
    "feature_name_dict"
   ]
  },
  {
   "cell_type": "code",
   "execution_count": null,
   "metadata": {},
   "outputs": [],
   "source": [
    "def get_relative_position(df, feature_name_dict):\n",
    "    relative_df = df.copy(deep=True)\n",
    "    for col in list(feature_name_dict.keys()):\n",
    "        # for hand positions\n",
    "        handSkipList = ['Wrist', 'Wrist.1']\n",
    "        if col not in handSkipList:\n",
    "            if(col[-2:] == '.1'):  # if it is left hand\n",
    "                relative_df[feature_name_dict[col]] = relative_df[feature_name_dict[col]] - \\\n",
    "                                         relative_df[feature_name_dict['Wrist.1']].values\n",
    "            else: # if it is right hand\n",
    "                relative_df[feature_name_dict[col]] = relative_df[feature_name_dict[col]] - \\\n",
    "                                         relative_df[feature_name_dict['Wrist']].values\n",
    "\n",
    "    return relative_df"
   ]
  },
  {
   "cell_type": "code",
   "execution_count": null,
   "metadata": {},
   "outputs": [],
   "source": [
    "relative_df = get_relative_position(new_df, feature_name_dict)\n",
    "len(relative_df)"
   ]
  },
  {
   "cell_type": "code",
   "execution_count": null,
   "metadata": {},
   "outputs": [],
   "source": [
    "relative_df"
   ]
  },
  {
   "cell_type": "code",
   "execution_count": null,
   "metadata": {},
   "outputs": [],
   "source": [
    "def get_scaled_features(relative_df):\n",
    "    header_df = relative_df[['Label','Time','Counter']].copy()\n",
    "    feature_df = relative_df.drop(['Label','Time','Counter'], axis=1).copy()\n",
    "    scaler = MinMaxScaler(feature_range=(0,1))\n",
    "    feature_names = feature_df.columns\n",
    "    scaled_df = pd.DataFrame(scaler.fit_transform(feature_df), columns=feature_names)\n",
    "    scaled_df = feature_df\n",
    "    scaled_df = pd.concat([header_df, scaled_df], axis=1)\n",
    "    return scaled_df, scaler"
   ]
  },
  {
   "cell_type": "code",
   "execution_count": null,
   "metadata": {},
   "outputs": [],
   "source": [
    "scaled_df, scaler = get_scaled_features(relative_df)"
   ]
  },
  {
   "cell_type": "code",
   "execution_count": null,
   "metadata": {},
   "outputs": [],
   "source": [
    "scaled_df.head()"
   ]
  },
  {
   "cell_type": "code",
   "execution_count": null,
   "metadata": {},
   "outputs": [],
   "source": [
    "#labelled_data.to_csv('./dataset/labelled_holding.csv', index=False)\n",
    "scaled_df.to_csv('./dataset/data_combined.csv', index=False)"
   ]
  },
  {
   "cell_type": "code",
   "execution_count": null,
   "metadata": {},
   "outputs": [],
   "source": [
    "relative_df.to_csv('./dataset/data_combined_wo_scaled.csv', index=False)"
   ]
  },
  {
   "cell_type": "code",
   "execution_count": null,
   "metadata": {},
   "outputs": [],
   "source": [
    "dump(scaler, open('./dataset/scaler.pkl', 'wb'))"
   ]
  },
  {
   "cell_type": "code",
   "execution_count": null,
   "metadata": {},
   "outputs": [],
   "source": []
  },
  {
   "cell_type": "code",
   "execution_count": null,
   "metadata": {},
   "outputs": [],
   "source": [
    "# To load the scaler\n",
    "from pickle import load\n",
    "scaler = load(open('./dataset/scaler.pkl', 'rb'))"
   ]
  },
  {
   "cell_type": "code",
   "execution_count": null,
   "metadata": {},
   "outputs": [],
   "source": []
  }
 ],
 "metadata": {
  "kernelspec": {
   "display_name": "Python 3 (ipykernel)",
   "language": "python",
   "name": "python3"
  },
  "language_info": {
   "codemirror_mode": {
    "name": "ipython",
    "version": 3
   },
   "file_extension": ".py",
   "mimetype": "text/x-python",
   "name": "python",
   "nbconvert_exporter": "python",
   "pygments_lexer": "ipython3",
   "version": "3.11.7"
  }
 },
 "nbformat": 4,
 "nbformat_minor": 4
}
